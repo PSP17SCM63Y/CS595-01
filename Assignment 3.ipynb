{
 "cells": [
  {
   "cell_type": "markdown",
   "metadata": {},
   "source": [
    "#                     Interactive and Transparent Machine Learning \n",
    "\n",
    "##                                                   Decision Trees \n",
    "\n",
    "### Dataset : World Happiness Report                                                                                                 Source: Kaggle.com\n",
    "\n",
    "Description:\n",
    "The World Happiness Report is a landmark survey of the state of global happiness. The first report was published in 2012, the second in 2013, the third in 2015, and the fourth in the 2016 Update. The report continues to gain global recognition as governments, organizations and civil society increasingly use happiness indicators to inform their policy-making decisions. Leading experts across fields – economics, psychology, survey analysis, national statistics, health, public policy and more – describe how measurements of well-being can be used effectively to assess the progress of nations.The happiness scores and rankings use data from the Gallup World Poll. The scores are based on answers to the main life evaluation question asked in the poll. The columns following the happiness score estimate the extent to which each of six factors – economic production, social support, life expectancy, freedom, absence of corruption, and generosity – contribute to making life evaluations higher in each country than they are in Dystopia, a hypothetical country that has values equal to the world’s lowest national averages for each of the six factors. They have no impact on the total score reported for each country, but they do explain why some countries rank higher than others.The following columns: GDP per Capita, Family, Life Expectancy, Freedom, Generosity, Trust Government Corruption describe the extent to which these factors contribute in evaluating the happiness in each country. \n",
    "The dataset has 12 features and 157 objects.\n"
   ]
  },
  {
   "cell_type": "code",
   "execution_count": 1,
   "metadata": {
    "collapsed": false
   },
   "outputs": [
    {
     "data": {
      "text/html": [
       "<div>\n",
       "<table border=\"1\" class=\"dataframe\">\n",
       "  <thead>\n",
       "    <tr style=\"text-align: right;\">\n",
       "      <th></th>\n",
       "      <th>Country</th>\n",
       "      <th>Region</th>\n",
       "      <th>Happiness Rank</th>\n",
       "      <th>Happiness Score</th>\n",
       "      <th>Standard Error</th>\n",
       "      <th>Economy (GDP per Capita)</th>\n",
       "      <th>Family</th>\n",
       "      <th>Health (Life Expectancy)</th>\n",
       "      <th>Freedom</th>\n",
       "      <th>Trust (Government Corruption)</th>\n",
       "      <th>Generosity</th>\n",
       "      <th>Dystopia Residual</th>\n",
       "    </tr>\n",
       "  </thead>\n",
       "  <tbody>\n",
       "    <tr>\n",
       "      <th>0</th>\n",
       "      <td>Switzerland</td>\n",
       "      <td>Western Europe</td>\n",
       "      <td>1</td>\n",
       "      <td>7.587</td>\n",
       "      <td>0.03411</td>\n",
       "      <td>1.39651</td>\n",
       "      <td>1.34951</td>\n",
       "      <td>0.94143</td>\n",
       "      <td>0.66557</td>\n",
       "      <td>0.41978</td>\n",
       "      <td>0.29678</td>\n",
       "      <td>2.51738</td>\n",
       "    </tr>\n",
       "    <tr>\n",
       "      <th>1</th>\n",
       "      <td>Iceland</td>\n",
       "      <td>Western Europe</td>\n",
       "      <td>2</td>\n",
       "      <td>7.561</td>\n",
       "      <td>0.04884</td>\n",
       "      <td>1.30232</td>\n",
       "      <td>1.40223</td>\n",
       "      <td>0.94784</td>\n",
       "      <td>0.62877</td>\n",
       "      <td>0.14145</td>\n",
       "      <td>0.43630</td>\n",
       "      <td>2.70201</td>\n",
       "    </tr>\n",
       "    <tr>\n",
       "      <th>2</th>\n",
       "      <td>Denmark</td>\n",
       "      <td>Western Europe</td>\n",
       "      <td>3</td>\n",
       "      <td>7.527</td>\n",
       "      <td>0.03328</td>\n",
       "      <td>1.32548</td>\n",
       "      <td>1.36058</td>\n",
       "      <td>0.87464</td>\n",
       "      <td>0.64938</td>\n",
       "      <td>0.48357</td>\n",
       "      <td>0.34139</td>\n",
       "      <td>2.49204</td>\n",
       "    </tr>\n",
       "    <tr>\n",
       "      <th>3</th>\n",
       "      <td>Norway</td>\n",
       "      <td>Western Europe</td>\n",
       "      <td>4</td>\n",
       "      <td>7.522</td>\n",
       "      <td>0.03880</td>\n",
       "      <td>1.45900</td>\n",
       "      <td>1.33095</td>\n",
       "      <td>0.88521</td>\n",
       "      <td>0.66973</td>\n",
       "      <td>0.36503</td>\n",
       "      <td>0.34699</td>\n",
       "      <td>2.46531</td>\n",
       "    </tr>\n",
       "    <tr>\n",
       "      <th>4</th>\n",
       "      <td>Canada</td>\n",
       "      <td>North America</td>\n",
       "      <td>5</td>\n",
       "      <td>7.427</td>\n",
       "      <td>0.03553</td>\n",
       "      <td>1.32629</td>\n",
       "      <td>1.32261</td>\n",
       "      <td>0.90563</td>\n",
       "      <td>0.63297</td>\n",
       "      <td>0.32957</td>\n",
       "      <td>0.45811</td>\n",
       "      <td>2.45176</td>\n",
       "    </tr>\n",
       "    <tr>\n",
       "      <th>5</th>\n",
       "      <td>Finland</td>\n",
       "      <td>Western Europe</td>\n",
       "      <td>6</td>\n",
       "      <td>7.406</td>\n",
       "      <td>0.03140</td>\n",
       "      <td>1.29025</td>\n",
       "      <td>1.31826</td>\n",
       "      <td>0.88911</td>\n",
       "      <td>0.64169</td>\n",
       "      <td>0.41372</td>\n",
       "      <td>0.23351</td>\n",
       "      <td>2.61955</td>\n",
       "    </tr>\n",
       "    <tr>\n",
       "      <th>6</th>\n",
       "      <td>Netherlands</td>\n",
       "      <td>Western Europe</td>\n",
       "      <td>7</td>\n",
       "      <td>7.378</td>\n",
       "      <td>0.02799</td>\n",
       "      <td>1.32944</td>\n",
       "      <td>1.28017</td>\n",
       "      <td>0.89284</td>\n",
       "      <td>0.61576</td>\n",
       "      <td>0.31814</td>\n",
       "      <td>0.47610</td>\n",
       "      <td>2.46570</td>\n",
       "    </tr>\n",
       "    <tr>\n",
       "      <th>7</th>\n",
       "      <td>Sweden</td>\n",
       "      <td>Western Europe</td>\n",
       "      <td>8</td>\n",
       "      <td>7.364</td>\n",
       "      <td>0.03157</td>\n",
       "      <td>1.33171</td>\n",
       "      <td>1.28907</td>\n",
       "      <td>0.91087</td>\n",
       "      <td>0.65980</td>\n",
       "      <td>0.43844</td>\n",
       "      <td>0.36262</td>\n",
       "      <td>2.37119</td>\n",
       "    </tr>\n",
       "    <tr>\n",
       "      <th>8</th>\n",
       "      <td>New Zealand</td>\n",
       "      <td>Australia and New Zealand</td>\n",
       "      <td>9</td>\n",
       "      <td>7.286</td>\n",
       "      <td>0.03371</td>\n",
       "      <td>1.25018</td>\n",
       "      <td>1.31967</td>\n",
       "      <td>0.90837</td>\n",
       "      <td>0.63938</td>\n",
       "      <td>0.42922</td>\n",
       "      <td>0.47501</td>\n",
       "      <td>2.26425</td>\n",
       "    </tr>\n",
       "    <tr>\n",
       "      <th>9</th>\n",
       "      <td>Australia</td>\n",
       "      <td>Australia and New Zealand</td>\n",
       "      <td>10</td>\n",
       "      <td>7.284</td>\n",
       "      <td>0.04083</td>\n",
       "      <td>1.33358</td>\n",
       "      <td>1.30923</td>\n",
       "      <td>0.93156</td>\n",
       "      <td>0.65124</td>\n",
       "      <td>0.35637</td>\n",
       "      <td>0.43562</td>\n",
       "      <td>2.26646</td>\n",
       "    </tr>\n",
       "    <tr>\n",
       "      <th>10</th>\n",
       "      <td>Israel</td>\n",
       "      <td>Middle East and Northern Africa</td>\n",
       "      <td>11</td>\n",
       "      <td>7.278</td>\n",
       "      <td>0.03470</td>\n",
       "      <td>1.22857</td>\n",
       "      <td>1.22393</td>\n",
       "      <td>0.91387</td>\n",
       "      <td>0.41319</td>\n",
       "      <td>0.07785</td>\n",
       "      <td>0.33172</td>\n",
       "      <td>3.08854</td>\n",
       "    </tr>\n",
       "    <tr>\n",
       "      <th>11</th>\n",
       "      <td>Costa Rica</td>\n",
       "      <td>Latin America and Caribbean</td>\n",
       "      <td>12</td>\n",
       "      <td>7.226</td>\n",
       "      <td>0.04454</td>\n",
       "      <td>0.95578</td>\n",
       "      <td>1.23788</td>\n",
       "      <td>0.86027</td>\n",
       "      <td>0.63376</td>\n",
       "      <td>0.10583</td>\n",
       "      <td>0.25497</td>\n",
       "      <td>3.17728</td>\n",
       "    </tr>\n",
       "    <tr>\n",
       "      <th>12</th>\n",
       "      <td>Austria</td>\n",
       "      <td>Western Europe</td>\n",
       "      <td>13</td>\n",
       "      <td>7.200</td>\n",
       "      <td>0.03751</td>\n",
       "      <td>1.33723</td>\n",
       "      <td>1.29704</td>\n",
       "      <td>0.89042</td>\n",
       "      <td>0.62433</td>\n",
       "      <td>0.18676</td>\n",
       "      <td>0.33088</td>\n",
       "      <td>2.53320</td>\n",
       "    </tr>\n",
       "    <tr>\n",
       "      <th>13</th>\n",
       "      <td>Mexico</td>\n",
       "      <td>Latin America and Caribbean</td>\n",
       "      <td>14</td>\n",
       "      <td>7.187</td>\n",
       "      <td>0.04176</td>\n",
       "      <td>1.02054</td>\n",
       "      <td>0.91451</td>\n",
       "      <td>0.81444</td>\n",
       "      <td>0.48181</td>\n",
       "      <td>0.21312</td>\n",
       "      <td>0.14074</td>\n",
       "      <td>3.60214</td>\n",
       "    </tr>\n",
       "    <tr>\n",
       "      <th>14</th>\n",
       "      <td>United States</td>\n",
       "      <td>North America</td>\n",
       "      <td>15</td>\n",
       "      <td>7.119</td>\n",
       "      <td>0.03839</td>\n",
       "      <td>1.39451</td>\n",
       "      <td>1.24711</td>\n",
       "      <td>0.86179</td>\n",
       "      <td>0.54604</td>\n",
       "      <td>0.15890</td>\n",
       "      <td>0.40105</td>\n",
       "      <td>2.51011</td>\n",
       "    </tr>\n",
       "    <tr>\n",
       "      <th>15</th>\n",
       "      <td>Brazil</td>\n",
       "      <td>Latin America and Caribbean</td>\n",
       "      <td>16</td>\n",
       "      <td>6.983</td>\n",
       "      <td>0.04076</td>\n",
       "      <td>0.98124</td>\n",
       "      <td>1.23287</td>\n",
       "      <td>0.69702</td>\n",
       "      <td>0.49049</td>\n",
       "      <td>0.17521</td>\n",
       "      <td>0.14574</td>\n",
       "      <td>3.26001</td>\n",
       "    </tr>\n",
       "    <tr>\n",
       "      <th>16</th>\n",
       "      <td>Luxembourg</td>\n",
       "      <td>Western Europe</td>\n",
       "      <td>17</td>\n",
       "      <td>6.946</td>\n",
       "      <td>0.03499</td>\n",
       "      <td>1.56391</td>\n",
       "      <td>1.21963</td>\n",
       "      <td>0.91894</td>\n",
       "      <td>0.61583</td>\n",
       "      <td>0.37798</td>\n",
       "      <td>0.28034</td>\n",
       "      <td>1.96961</td>\n",
       "    </tr>\n",
       "    <tr>\n",
       "      <th>17</th>\n",
       "      <td>Ireland</td>\n",
       "      <td>Western Europe</td>\n",
       "      <td>18</td>\n",
       "      <td>6.940</td>\n",
       "      <td>0.03676</td>\n",
       "      <td>1.33596</td>\n",
       "      <td>1.36948</td>\n",
       "      <td>0.89533</td>\n",
       "      <td>0.61777</td>\n",
       "      <td>0.28703</td>\n",
       "      <td>0.45901</td>\n",
       "      <td>1.97570</td>\n",
       "    </tr>\n",
       "    <tr>\n",
       "      <th>18</th>\n",
       "      <td>Belgium</td>\n",
       "      <td>Western Europe</td>\n",
       "      <td>19</td>\n",
       "      <td>6.937</td>\n",
       "      <td>0.03595</td>\n",
       "      <td>1.30782</td>\n",
       "      <td>1.28566</td>\n",
       "      <td>0.89667</td>\n",
       "      <td>0.58450</td>\n",
       "      <td>0.22540</td>\n",
       "      <td>0.22250</td>\n",
       "      <td>2.41484</td>\n",
       "    </tr>\n",
       "    <tr>\n",
       "      <th>19</th>\n",
       "      <td>United Arab Emirates</td>\n",
       "      <td>Middle East and Northern Africa</td>\n",
       "      <td>20</td>\n",
       "      <td>6.901</td>\n",
       "      <td>0.03729</td>\n",
       "      <td>1.42727</td>\n",
       "      <td>1.12575</td>\n",
       "      <td>0.80925</td>\n",
       "      <td>0.64157</td>\n",
       "      <td>0.38583</td>\n",
       "      <td>0.26428</td>\n",
       "      <td>2.24743</td>\n",
       "    </tr>\n",
       "    <tr>\n",
       "      <th>20</th>\n",
       "      <td>United Kingdom</td>\n",
       "      <td>Western Europe</td>\n",
       "      <td>21</td>\n",
       "      <td>6.867</td>\n",
       "      <td>0.01866</td>\n",
       "      <td>1.26637</td>\n",
       "      <td>1.28548</td>\n",
       "      <td>0.90943</td>\n",
       "      <td>0.59625</td>\n",
       "      <td>0.32067</td>\n",
       "      <td>0.51912</td>\n",
       "      <td>1.96994</td>\n",
       "    </tr>\n",
       "    <tr>\n",
       "      <th>21</th>\n",
       "      <td>Oman</td>\n",
       "      <td>Middle East and Northern Africa</td>\n",
       "      <td>22</td>\n",
       "      <td>6.853</td>\n",
       "      <td>0.05335</td>\n",
       "      <td>1.36011</td>\n",
       "      <td>1.08182</td>\n",
       "      <td>0.76276</td>\n",
       "      <td>0.63274</td>\n",
       "      <td>0.32524</td>\n",
       "      <td>0.21542</td>\n",
       "      <td>2.47489</td>\n",
       "    </tr>\n",
       "    <tr>\n",
       "      <th>22</th>\n",
       "      <td>Venezuela</td>\n",
       "      <td>Latin America and Caribbean</td>\n",
       "      <td>23</td>\n",
       "      <td>6.810</td>\n",
       "      <td>0.06476</td>\n",
       "      <td>1.04424</td>\n",
       "      <td>1.25596</td>\n",
       "      <td>0.72052</td>\n",
       "      <td>0.42908</td>\n",
       "      <td>0.11069</td>\n",
       "      <td>0.05841</td>\n",
       "      <td>3.19131</td>\n",
       "    </tr>\n",
       "    <tr>\n",
       "      <th>23</th>\n",
       "      <td>Singapore</td>\n",
       "      <td>Southeastern Asia</td>\n",
       "      <td>24</td>\n",
       "      <td>6.798</td>\n",
       "      <td>0.03780</td>\n",
       "      <td>1.52186</td>\n",
       "      <td>1.02000</td>\n",
       "      <td>1.02525</td>\n",
       "      <td>0.54252</td>\n",
       "      <td>0.49210</td>\n",
       "      <td>0.31105</td>\n",
       "      <td>1.88501</td>\n",
       "    </tr>\n",
       "    <tr>\n",
       "      <th>24</th>\n",
       "      <td>Panama</td>\n",
       "      <td>Latin America and Caribbean</td>\n",
       "      <td>25</td>\n",
       "      <td>6.786</td>\n",
       "      <td>0.04910</td>\n",
       "      <td>1.06353</td>\n",
       "      <td>1.19850</td>\n",
       "      <td>0.79661</td>\n",
       "      <td>0.54210</td>\n",
       "      <td>0.09270</td>\n",
       "      <td>0.24434</td>\n",
       "      <td>2.84848</td>\n",
       "    </tr>\n",
       "    <tr>\n",
       "      <th>25</th>\n",
       "      <td>Germany</td>\n",
       "      <td>Western Europe</td>\n",
       "      <td>26</td>\n",
       "      <td>6.750</td>\n",
       "      <td>0.01848</td>\n",
       "      <td>1.32792</td>\n",
       "      <td>1.29937</td>\n",
       "      <td>0.89186</td>\n",
       "      <td>0.61477</td>\n",
       "      <td>0.21843</td>\n",
       "      <td>0.28214</td>\n",
       "      <td>2.11569</td>\n",
       "    </tr>\n",
       "    <tr>\n",
       "      <th>26</th>\n",
       "      <td>Chile</td>\n",
       "      <td>Latin America and Caribbean</td>\n",
       "      <td>27</td>\n",
       "      <td>6.670</td>\n",
       "      <td>0.05800</td>\n",
       "      <td>1.10715</td>\n",
       "      <td>1.12447</td>\n",
       "      <td>0.85857</td>\n",
       "      <td>0.44132</td>\n",
       "      <td>0.12869</td>\n",
       "      <td>0.33363</td>\n",
       "      <td>2.67585</td>\n",
       "    </tr>\n",
       "    <tr>\n",
       "      <th>27</th>\n",
       "      <td>Qatar</td>\n",
       "      <td>Middle East and Northern Africa</td>\n",
       "      <td>28</td>\n",
       "      <td>6.611</td>\n",
       "      <td>0.06257</td>\n",
       "      <td>1.69042</td>\n",
       "      <td>1.07860</td>\n",
       "      <td>0.79733</td>\n",
       "      <td>0.64040</td>\n",
       "      <td>0.52208</td>\n",
       "      <td>0.32573</td>\n",
       "      <td>1.55674</td>\n",
       "    </tr>\n",
       "    <tr>\n",
       "      <th>28</th>\n",
       "      <td>France</td>\n",
       "      <td>Western Europe</td>\n",
       "      <td>29</td>\n",
       "      <td>6.575</td>\n",
       "      <td>0.03512</td>\n",
       "      <td>1.27778</td>\n",
       "      <td>1.26038</td>\n",
       "      <td>0.94579</td>\n",
       "      <td>0.55011</td>\n",
       "      <td>0.20646</td>\n",
       "      <td>0.12332</td>\n",
       "      <td>2.21126</td>\n",
       "    </tr>\n",
       "    <tr>\n",
       "      <th>29</th>\n",
       "      <td>Argentina</td>\n",
       "      <td>Latin America and Caribbean</td>\n",
       "      <td>30</td>\n",
       "      <td>6.574</td>\n",
       "      <td>0.04612</td>\n",
       "      <td>1.05351</td>\n",
       "      <td>1.24823</td>\n",
       "      <td>0.78723</td>\n",
       "      <td>0.44974</td>\n",
       "      <td>0.08484</td>\n",
       "      <td>0.11451</td>\n",
       "      <td>2.83600</td>\n",
       "    </tr>\n",
       "    <tr>\n",
       "      <th>...</th>\n",
       "      <td>...</td>\n",
       "      <td>...</td>\n",
       "      <td>...</td>\n",
       "      <td>...</td>\n",
       "      <td>...</td>\n",
       "      <td>...</td>\n",
       "      <td>...</td>\n",
       "      <td>...</td>\n",
       "      <td>...</td>\n",
       "      <td>...</td>\n",
       "      <td>...</td>\n",
       "      <td>...</td>\n",
       "    </tr>\n",
       "    <tr>\n",
       "      <th>128</th>\n",
       "      <td>Myanmar</td>\n",
       "      <td>Southeastern Asia</td>\n",
       "      <td>129</td>\n",
       "      <td>4.307</td>\n",
       "      <td>0.04351</td>\n",
       "      <td>0.27108</td>\n",
       "      <td>0.70905</td>\n",
       "      <td>0.48246</td>\n",
       "      <td>0.44017</td>\n",
       "      <td>0.19034</td>\n",
       "      <td>0.79588</td>\n",
       "      <td>1.41805</td>\n",
       "    </tr>\n",
       "    <tr>\n",
       "      <th>129</th>\n",
       "      <td>Georgia</td>\n",
       "      <td>Central and Eastern Europe</td>\n",
       "      <td>130</td>\n",
       "      <td>4.297</td>\n",
       "      <td>0.04221</td>\n",
       "      <td>0.74190</td>\n",
       "      <td>0.38562</td>\n",
       "      <td>0.72926</td>\n",
       "      <td>0.40577</td>\n",
       "      <td>0.38331</td>\n",
       "      <td>0.05547</td>\n",
       "      <td>1.59541</td>\n",
       "    </tr>\n",
       "    <tr>\n",
       "      <th>130</th>\n",
       "      <td>Malawi</td>\n",
       "      <td>Sub-Saharan Africa</td>\n",
       "      <td>131</td>\n",
       "      <td>4.292</td>\n",
       "      <td>0.06130</td>\n",
       "      <td>0.01604</td>\n",
       "      <td>0.41134</td>\n",
       "      <td>0.22562</td>\n",
       "      <td>0.43054</td>\n",
       "      <td>0.06977</td>\n",
       "      <td>0.33128</td>\n",
       "      <td>2.80791</td>\n",
       "    </tr>\n",
       "    <tr>\n",
       "      <th>131</th>\n",
       "      <td>Sri Lanka</td>\n",
       "      <td>Southern Asia</td>\n",
       "      <td>132</td>\n",
       "      <td>4.271</td>\n",
       "      <td>0.03751</td>\n",
       "      <td>0.83524</td>\n",
       "      <td>1.01905</td>\n",
       "      <td>0.70806</td>\n",
       "      <td>0.53726</td>\n",
       "      <td>0.09179</td>\n",
       "      <td>0.40828</td>\n",
       "      <td>0.67108</td>\n",
       "    </tr>\n",
       "    <tr>\n",
       "      <th>132</th>\n",
       "      <td>Cameroon</td>\n",
       "      <td>Sub-Saharan Africa</td>\n",
       "      <td>133</td>\n",
       "      <td>4.252</td>\n",
       "      <td>0.04678</td>\n",
       "      <td>0.42250</td>\n",
       "      <td>0.88767</td>\n",
       "      <td>0.23402</td>\n",
       "      <td>0.49309</td>\n",
       "      <td>0.05786</td>\n",
       "      <td>0.20618</td>\n",
       "      <td>1.95071</td>\n",
       "    </tr>\n",
       "    <tr>\n",
       "      <th>133</th>\n",
       "      <td>Bulgaria</td>\n",
       "      <td>Central and Eastern Europe</td>\n",
       "      <td>134</td>\n",
       "      <td>4.218</td>\n",
       "      <td>0.04828</td>\n",
       "      <td>1.01216</td>\n",
       "      <td>1.10614</td>\n",
       "      <td>0.76649</td>\n",
       "      <td>0.30587</td>\n",
       "      <td>0.00872</td>\n",
       "      <td>0.11921</td>\n",
       "      <td>0.89991</td>\n",
       "    </tr>\n",
       "    <tr>\n",
       "      <th>134</th>\n",
       "      <td>Egypt</td>\n",
       "      <td>Middle East and Northern Africa</td>\n",
       "      <td>135</td>\n",
       "      <td>4.194</td>\n",
       "      <td>0.03260</td>\n",
       "      <td>0.88180</td>\n",
       "      <td>0.74700</td>\n",
       "      <td>0.61712</td>\n",
       "      <td>0.17288</td>\n",
       "      <td>0.06324</td>\n",
       "      <td>0.11291</td>\n",
       "      <td>1.59927</td>\n",
       "    </tr>\n",
       "    <tr>\n",
       "      <th>135</th>\n",
       "      <td>Yemen</td>\n",
       "      <td>Middle East and Northern Africa</td>\n",
       "      <td>136</td>\n",
       "      <td>4.077</td>\n",
       "      <td>0.04367</td>\n",
       "      <td>0.54649</td>\n",
       "      <td>0.68093</td>\n",
       "      <td>0.40064</td>\n",
       "      <td>0.35571</td>\n",
       "      <td>0.07854</td>\n",
       "      <td>0.09131</td>\n",
       "      <td>1.92313</td>\n",
       "    </tr>\n",
       "    <tr>\n",
       "      <th>136</th>\n",
       "      <td>Angola</td>\n",
       "      <td>Sub-Saharan Africa</td>\n",
       "      <td>137</td>\n",
       "      <td>4.033</td>\n",
       "      <td>0.04758</td>\n",
       "      <td>0.75778</td>\n",
       "      <td>0.86040</td>\n",
       "      <td>0.16683</td>\n",
       "      <td>0.10384</td>\n",
       "      <td>0.07122</td>\n",
       "      <td>0.12344</td>\n",
       "      <td>1.94939</td>\n",
       "    </tr>\n",
       "    <tr>\n",
       "      <th>137</th>\n",
       "      <td>Mali</td>\n",
       "      <td>Sub-Saharan Africa</td>\n",
       "      <td>138</td>\n",
       "      <td>3.995</td>\n",
       "      <td>0.05602</td>\n",
       "      <td>0.26074</td>\n",
       "      <td>1.03526</td>\n",
       "      <td>0.20583</td>\n",
       "      <td>0.38857</td>\n",
       "      <td>0.12352</td>\n",
       "      <td>0.18798</td>\n",
       "      <td>1.79293</td>\n",
       "    </tr>\n",
       "    <tr>\n",
       "      <th>138</th>\n",
       "      <td>Congo (Brazzaville)</td>\n",
       "      <td>Sub-Saharan Africa</td>\n",
       "      <td>139</td>\n",
       "      <td>3.989</td>\n",
       "      <td>0.06682</td>\n",
       "      <td>0.67866</td>\n",
       "      <td>0.66290</td>\n",
       "      <td>0.31051</td>\n",
       "      <td>0.41466</td>\n",
       "      <td>0.11686</td>\n",
       "      <td>0.12388</td>\n",
       "      <td>1.68135</td>\n",
       "    </tr>\n",
       "    <tr>\n",
       "      <th>139</th>\n",
       "      <td>Comoros</td>\n",
       "      <td>Sub-Saharan Africa</td>\n",
       "      <td>140</td>\n",
       "      <td>3.956</td>\n",
       "      <td>0.04797</td>\n",
       "      <td>0.23906</td>\n",
       "      <td>0.79273</td>\n",
       "      <td>0.36315</td>\n",
       "      <td>0.22917</td>\n",
       "      <td>0.19900</td>\n",
       "      <td>0.17441</td>\n",
       "      <td>1.95812</td>\n",
       "    </tr>\n",
       "    <tr>\n",
       "      <th>140</th>\n",
       "      <td>Uganda</td>\n",
       "      <td>Sub-Saharan Africa</td>\n",
       "      <td>141</td>\n",
       "      <td>3.931</td>\n",
       "      <td>0.04317</td>\n",
       "      <td>0.21102</td>\n",
       "      <td>1.13299</td>\n",
       "      <td>0.33861</td>\n",
       "      <td>0.45727</td>\n",
       "      <td>0.07267</td>\n",
       "      <td>0.29066</td>\n",
       "      <td>1.42766</td>\n",
       "    </tr>\n",
       "    <tr>\n",
       "      <th>141</th>\n",
       "      <td>Senegal</td>\n",
       "      <td>Sub-Saharan Africa</td>\n",
       "      <td>142</td>\n",
       "      <td>3.904</td>\n",
       "      <td>0.03608</td>\n",
       "      <td>0.36498</td>\n",
       "      <td>0.97619</td>\n",
       "      <td>0.43540</td>\n",
       "      <td>0.36772</td>\n",
       "      <td>0.10713</td>\n",
       "      <td>0.20843</td>\n",
       "      <td>1.44395</td>\n",
       "    </tr>\n",
       "    <tr>\n",
       "      <th>142</th>\n",
       "      <td>Gabon</td>\n",
       "      <td>Sub-Saharan Africa</td>\n",
       "      <td>143</td>\n",
       "      <td>3.896</td>\n",
       "      <td>0.04547</td>\n",
       "      <td>1.06024</td>\n",
       "      <td>0.90528</td>\n",
       "      <td>0.43372</td>\n",
       "      <td>0.31914</td>\n",
       "      <td>0.11091</td>\n",
       "      <td>0.06822</td>\n",
       "      <td>0.99895</td>\n",
       "    </tr>\n",
       "    <tr>\n",
       "      <th>143</th>\n",
       "      <td>Niger</td>\n",
       "      <td>Sub-Saharan Africa</td>\n",
       "      <td>144</td>\n",
       "      <td>3.845</td>\n",
       "      <td>0.03602</td>\n",
       "      <td>0.06940</td>\n",
       "      <td>0.77265</td>\n",
       "      <td>0.29707</td>\n",
       "      <td>0.47692</td>\n",
       "      <td>0.15639</td>\n",
       "      <td>0.19387</td>\n",
       "      <td>1.87877</td>\n",
       "    </tr>\n",
       "    <tr>\n",
       "      <th>144</th>\n",
       "      <td>Cambodia</td>\n",
       "      <td>Southeastern Asia</td>\n",
       "      <td>145</td>\n",
       "      <td>3.819</td>\n",
       "      <td>0.05069</td>\n",
       "      <td>0.46038</td>\n",
       "      <td>0.62736</td>\n",
       "      <td>0.61114</td>\n",
       "      <td>0.66246</td>\n",
       "      <td>0.07247</td>\n",
       "      <td>0.40359</td>\n",
       "      <td>0.98195</td>\n",
       "    </tr>\n",
       "    <tr>\n",
       "      <th>145</th>\n",
       "      <td>Tanzania</td>\n",
       "      <td>Sub-Saharan Africa</td>\n",
       "      <td>146</td>\n",
       "      <td>3.781</td>\n",
       "      <td>0.05061</td>\n",
       "      <td>0.28520</td>\n",
       "      <td>1.00268</td>\n",
       "      <td>0.38215</td>\n",
       "      <td>0.32878</td>\n",
       "      <td>0.05747</td>\n",
       "      <td>0.34377</td>\n",
       "      <td>1.38079</td>\n",
       "    </tr>\n",
       "    <tr>\n",
       "      <th>146</th>\n",
       "      <td>Madagascar</td>\n",
       "      <td>Sub-Saharan Africa</td>\n",
       "      <td>147</td>\n",
       "      <td>3.681</td>\n",
       "      <td>0.03633</td>\n",
       "      <td>0.20824</td>\n",
       "      <td>0.66801</td>\n",
       "      <td>0.46721</td>\n",
       "      <td>0.19184</td>\n",
       "      <td>0.08124</td>\n",
       "      <td>0.21333</td>\n",
       "      <td>1.85100</td>\n",
       "    </tr>\n",
       "    <tr>\n",
       "      <th>147</th>\n",
       "      <td>Central African Republic</td>\n",
       "      <td>Sub-Saharan Africa</td>\n",
       "      <td>148</td>\n",
       "      <td>3.678</td>\n",
       "      <td>0.06112</td>\n",
       "      <td>0.07850</td>\n",
       "      <td>0.00000</td>\n",
       "      <td>0.06699</td>\n",
       "      <td>0.48879</td>\n",
       "      <td>0.08289</td>\n",
       "      <td>0.23835</td>\n",
       "      <td>2.72230</td>\n",
       "    </tr>\n",
       "    <tr>\n",
       "      <th>148</th>\n",
       "      <td>Chad</td>\n",
       "      <td>Sub-Saharan Africa</td>\n",
       "      <td>149</td>\n",
       "      <td>3.667</td>\n",
       "      <td>0.03830</td>\n",
       "      <td>0.34193</td>\n",
       "      <td>0.76062</td>\n",
       "      <td>0.15010</td>\n",
       "      <td>0.23501</td>\n",
       "      <td>0.05269</td>\n",
       "      <td>0.18386</td>\n",
       "      <td>1.94296</td>\n",
       "    </tr>\n",
       "    <tr>\n",
       "      <th>149</th>\n",
       "      <td>Guinea</td>\n",
       "      <td>Sub-Saharan Africa</td>\n",
       "      <td>150</td>\n",
       "      <td>3.656</td>\n",
       "      <td>0.03590</td>\n",
       "      <td>0.17417</td>\n",
       "      <td>0.46475</td>\n",
       "      <td>0.24009</td>\n",
       "      <td>0.37725</td>\n",
       "      <td>0.12139</td>\n",
       "      <td>0.28657</td>\n",
       "      <td>1.99172</td>\n",
       "    </tr>\n",
       "    <tr>\n",
       "      <th>150</th>\n",
       "      <td>Ivory Coast</td>\n",
       "      <td>Sub-Saharan Africa</td>\n",
       "      <td>151</td>\n",
       "      <td>3.655</td>\n",
       "      <td>0.05141</td>\n",
       "      <td>0.46534</td>\n",
       "      <td>0.77115</td>\n",
       "      <td>0.15185</td>\n",
       "      <td>0.46866</td>\n",
       "      <td>0.17922</td>\n",
       "      <td>0.20165</td>\n",
       "      <td>1.41723</td>\n",
       "    </tr>\n",
       "    <tr>\n",
       "      <th>151</th>\n",
       "      <td>Burkina Faso</td>\n",
       "      <td>Sub-Saharan Africa</td>\n",
       "      <td>152</td>\n",
       "      <td>3.587</td>\n",
       "      <td>0.04324</td>\n",
       "      <td>0.25812</td>\n",
       "      <td>0.85188</td>\n",
       "      <td>0.27125</td>\n",
       "      <td>0.39493</td>\n",
       "      <td>0.12832</td>\n",
       "      <td>0.21747</td>\n",
       "      <td>1.46494</td>\n",
       "    </tr>\n",
       "    <tr>\n",
       "      <th>152</th>\n",
       "      <td>Afghanistan</td>\n",
       "      <td>Southern Asia</td>\n",
       "      <td>153</td>\n",
       "      <td>3.575</td>\n",
       "      <td>0.03084</td>\n",
       "      <td>0.31982</td>\n",
       "      <td>0.30285</td>\n",
       "      <td>0.30335</td>\n",
       "      <td>0.23414</td>\n",
       "      <td>0.09719</td>\n",
       "      <td>0.36510</td>\n",
       "      <td>1.95210</td>\n",
       "    </tr>\n",
       "    <tr>\n",
       "      <th>153</th>\n",
       "      <td>Rwanda</td>\n",
       "      <td>Sub-Saharan Africa</td>\n",
       "      <td>154</td>\n",
       "      <td>3.465</td>\n",
       "      <td>0.03464</td>\n",
       "      <td>0.22208</td>\n",
       "      <td>0.77370</td>\n",
       "      <td>0.42864</td>\n",
       "      <td>0.59201</td>\n",
       "      <td>0.55191</td>\n",
       "      <td>0.22628</td>\n",
       "      <td>0.67042</td>\n",
       "    </tr>\n",
       "    <tr>\n",
       "      <th>154</th>\n",
       "      <td>Benin</td>\n",
       "      <td>Sub-Saharan Africa</td>\n",
       "      <td>155</td>\n",
       "      <td>3.340</td>\n",
       "      <td>0.03656</td>\n",
       "      <td>0.28665</td>\n",
       "      <td>0.35386</td>\n",
       "      <td>0.31910</td>\n",
       "      <td>0.48450</td>\n",
       "      <td>0.08010</td>\n",
       "      <td>0.18260</td>\n",
       "      <td>1.63328</td>\n",
       "    </tr>\n",
       "    <tr>\n",
       "      <th>155</th>\n",
       "      <td>Syria</td>\n",
       "      <td>Middle East and Northern Africa</td>\n",
       "      <td>156</td>\n",
       "      <td>3.006</td>\n",
       "      <td>0.05015</td>\n",
       "      <td>0.66320</td>\n",
       "      <td>0.47489</td>\n",
       "      <td>0.72193</td>\n",
       "      <td>0.15684</td>\n",
       "      <td>0.18906</td>\n",
       "      <td>0.47179</td>\n",
       "      <td>0.32858</td>\n",
       "    </tr>\n",
       "    <tr>\n",
       "      <th>156</th>\n",
       "      <td>Burundi</td>\n",
       "      <td>Sub-Saharan Africa</td>\n",
       "      <td>157</td>\n",
       "      <td>2.905</td>\n",
       "      <td>0.08658</td>\n",
       "      <td>0.01530</td>\n",
       "      <td>0.41587</td>\n",
       "      <td>0.22396</td>\n",
       "      <td>0.11850</td>\n",
       "      <td>0.10062</td>\n",
       "      <td>0.19727</td>\n",
       "      <td>1.83302</td>\n",
       "    </tr>\n",
       "    <tr>\n",
       "      <th>157</th>\n",
       "      <td>Togo</td>\n",
       "      <td>Sub-Saharan Africa</td>\n",
       "      <td>158</td>\n",
       "      <td>2.839</td>\n",
       "      <td>0.06727</td>\n",
       "      <td>0.20868</td>\n",
       "      <td>0.13995</td>\n",
       "      <td>0.28443</td>\n",
       "      <td>0.36453</td>\n",
       "      <td>0.10731</td>\n",
       "      <td>0.16681</td>\n",
       "      <td>1.56726</td>\n",
       "    </tr>\n",
       "  </tbody>\n",
       "</table>\n",
       "<p>158 rows × 12 columns</p>\n",
       "</div>"
      ],
      "text/plain": [
       "                      Country                           Region  \\\n",
       "0                 Switzerland                   Western Europe   \n",
       "1                     Iceland                   Western Europe   \n",
       "2                     Denmark                   Western Europe   \n",
       "3                      Norway                   Western Europe   \n",
       "4                      Canada                    North America   \n",
       "5                     Finland                   Western Europe   \n",
       "6                 Netherlands                   Western Europe   \n",
       "7                      Sweden                   Western Europe   \n",
       "8                 New Zealand        Australia and New Zealand   \n",
       "9                   Australia        Australia and New Zealand   \n",
       "10                     Israel  Middle East and Northern Africa   \n",
       "11                 Costa Rica      Latin America and Caribbean   \n",
       "12                    Austria                   Western Europe   \n",
       "13                     Mexico      Latin America and Caribbean   \n",
       "14              United States                    North America   \n",
       "15                     Brazil      Latin America and Caribbean   \n",
       "16                 Luxembourg                   Western Europe   \n",
       "17                    Ireland                   Western Europe   \n",
       "18                    Belgium                   Western Europe   \n",
       "19       United Arab Emirates  Middle East and Northern Africa   \n",
       "20             United Kingdom                   Western Europe   \n",
       "21                       Oman  Middle East and Northern Africa   \n",
       "22                  Venezuela      Latin America and Caribbean   \n",
       "23                  Singapore                Southeastern Asia   \n",
       "24                     Panama      Latin America and Caribbean   \n",
       "25                    Germany                   Western Europe   \n",
       "26                      Chile      Latin America and Caribbean   \n",
       "27                      Qatar  Middle East and Northern Africa   \n",
       "28                     France                   Western Europe   \n",
       "29                  Argentina      Latin America and Caribbean   \n",
       "..                        ...                              ...   \n",
       "128                   Myanmar                Southeastern Asia   \n",
       "129                   Georgia       Central and Eastern Europe   \n",
       "130                    Malawi               Sub-Saharan Africa   \n",
       "131                 Sri Lanka                    Southern Asia   \n",
       "132                  Cameroon               Sub-Saharan Africa   \n",
       "133                  Bulgaria       Central and Eastern Europe   \n",
       "134                     Egypt  Middle East and Northern Africa   \n",
       "135                     Yemen  Middle East and Northern Africa   \n",
       "136                    Angola               Sub-Saharan Africa   \n",
       "137                      Mali               Sub-Saharan Africa   \n",
       "138       Congo (Brazzaville)               Sub-Saharan Africa   \n",
       "139                   Comoros               Sub-Saharan Africa   \n",
       "140                    Uganda               Sub-Saharan Africa   \n",
       "141                   Senegal               Sub-Saharan Africa   \n",
       "142                     Gabon               Sub-Saharan Africa   \n",
       "143                     Niger               Sub-Saharan Africa   \n",
       "144                  Cambodia                Southeastern Asia   \n",
       "145                  Tanzania               Sub-Saharan Africa   \n",
       "146                Madagascar               Sub-Saharan Africa   \n",
       "147  Central African Republic               Sub-Saharan Africa   \n",
       "148                      Chad               Sub-Saharan Africa   \n",
       "149                    Guinea               Sub-Saharan Africa   \n",
       "150               Ivory Coast               Sub-Saharan Africa   \n",
       "151              Burkina Faso               Sub-Saharan Africa   \n",
       "152               Afghanistan                    Southern Asia   \n",
       "153                    Rwanda               Sub-Saharan Africa   \n",
       "154                     Benin               Sub-Saharan Africa   \n",
       "155                     Syria  Middle East and Northern Africa   \n",
       "156                   Burundi               Sub-Saharan Africa   \n",
       "157                      Togo               Sub-Saharan Africa   \n",
       "\n",
       "     Happiness Rank  Happiness Score  Standard Error  \\\n",
       "0                 1            7.587         0.03411   \n",
       "1                 2            7.561         0.04884   \n",
       "2                 3            7.527         0.03328   \n",
       "3                 4            7.522         0.03880   \n",
       "4                 5            7.427         0.03553   \n",
       "5                 6            7.406         0.03140   \n",
       "6                 7            7.378         0.02799   \n",
       "7                 8            7.364         0.03157   \n",
       "8                 9            7.286         0.03371   \n",
       "9                10            7.284         0.04083   \n",
       "10               11            7.278         0.03470   \n",
       "11               12            7.226         0.04454   \n",
       "12               13            7.200         0.03751   \n",
       "13               14            7.187         0.04176   \n",
       "14               15            7.119         0.03839   \n",
       "15               16            6.983         0.04076   \n",
       "16               17            6.946         0.03499   \n",
       "17               18            6.940         0.03676   \n",
       "18               19            6.937         0.03595   \n",
       "19               20            6.901         0.03729   \n",
       "20               21            6.867         0.01866   \n",
       "21               22            6.853         0.05335   \n",
       "22               23            6.810         0.06476   \n",
       "23               24            6.798         0.03780   \n",
       "24               25            6.786         0.04910   \n",
       "25               26            6.750         0.01848   \n",
       "26               27            6.670         0.05800   \n",
       "27               28            6.611         0.06257   \n",
       "28               29            6.575         0.03512   \n",
       "29               30            6.574         0.04612   \n",
       "..              ...              ...             ...   \n",
       "128             129            4.307         0.04351   \n",
       "129             130            4.297         0.04221   \n",
       "130             131            4.292         0.06130   \n",
       "131             132            4.271         0.03751   \n",
       "132             133            4.252         0.04678   \n",
       "133             134            4.218         0.04828   \n",
       "134             135            4.194         0.03260   \n",
       "135             136            4.077         0.04367   \n",
       "136             137            4.033         0.04758   \n",
       "137             138            3.995         0.05602   \n",
       "138             139            3.989         0.06682   \n",
       "139             140            3.956         0.04797   \n",
       "140             141            3.931         0.04317   \n",
       "141             142            3.904         0.03608   \n",
       "142             143            3.896         0.04547   \n",
       "143             144            3.845         0.03602   \n",
       "144             145            3.819         0.05069   \n",
       "145             146            3.781         0.05061   \n",
       "146             147            3.681         0.03633   \n",
       "147             148            3.678         0.06112   \n",
       "148             149            3.667         0.03830   \n",
       "149             150            3.656         0.03590   \n",
       "150             151            3.655         0.05141   \n",
       "151             152            3.587         0.04324   \n",
       "152             153            3.575         0.03084   \n",
       "153             154            3.465         0.03464   \n",
       "154             155            3.340         0.03656   \n",
       "155             156            3.006         0.05015   \n",
       "156             157            2.905         0.08658   \n",
       "157             158            2.839         0.06727   \n",
       "\n",
       "     Economy (GDP per Capita)   Family  Health (Life Expectancy)  Freedom  \\\n",
       "0                     1.39651  1.34951                   0.94143  0.66557   \n",
       "1                     1.30232  1.40223                   0.94784  0.62877   \n",
       "2                     1.32548  1.36058                   0.87464  0.64938   \n",
       "3                     1.45900  1.33095                   0.88521  0.66973   \n",
       "4                     1.32629  1.32261                   0.90563  0.63297   \n",
       "5                     1.29025  1.31826                   0.88911  0.64169   \n",
       "6                     1.32944  1.28017                   0.89284  0.61576   \n",
       "7                     1.33171  1.28907                   0.91087  0.65980   \n",
       "8                     1.25018  1.31967                   0.90837  0.63938   \n",
       "9                     1.33358  1.30923                   0.93156  0.65124   \n",
       "10                    1.22857  1.22393                   0.91387  0.41319   \n",
       "11                    0.95578  1.23788                   0.86027  0.63376   \n",
       "12                    1.33723  1.29704                   0.89042  0.62433   \n",
       "13                    1.02054  0.91451                   0.81444  0.48181   \n",
       "14                    1.39451  1.24711                   0.86179  0.54604   \n",
       "15                    0.98124  1.23287                   0.69702  0.49049   \n",
       "16                    1.56391  1.21963                   0.91894  0.61583   \n",
       "17                    1.33596  1.36948                   0.89533  0.61777   \n",
       "18                    1.30782  1.28566                   0.89667  0.58450   \n",
       "19                    1.42727  1.12575                   0.80925  0.64157   \n",
       "20                    1.26637  1.28548                   0.90943  0.59625   \n",
       "21                    1.36011  1.08182                   0.76276  0.63274   \n",
       "22                    1.04424  1.25596                   0.72052  0.42908   \n",
       "23                    1.52186  1.02000                   1.02525  0.54252   \n",
       "24                    1.06353  1.19850                   0.79661  0.54210   \n",
       "25                    1.32792  1.29937                   0.89186  0.61477   \n",
       "26                    1.10715  1.12447                   0.85857  0.44132   \n",
       "27                    1.69042  1.07860                   0.79733  0.64040   \n",
       "28                    1.27778  1.26038                   0.94579  0.55011   \n",
       "29                    1.05351  1.24823                   0.78723  0.44974   \n",
       "..                        ...      ...                       ...      ...   \n",
       "128                   0.27108  0.70905                   0.48246  0.44017   \n",
       "129                   0.74190  0.38562                   0.72926  0.40577   \n",
       "130                   0.01604  0.41134                   0.22562  0.43054   \n",
       "131                   0.83524  1.01905                   0.70806  0.53726   \n",
       "132                   0.42250  0.88767                   0.23402  0.49309   \n",
       "133                   1.01216  1.10614                   0.76649  0.30587   \n",
       "134                   0.88180  0.74700                   0.61712  0.17288   \n",
       "135                   0.54649  0.68093                   0.40064  0.35571   \n",
       "136                   0.75778  0.86040                   0.16683  0.10384   \n",
       "137                   0.26074  1.03526                   0.20583  0.38857   \n",
       "138                   0.67866  0.66290                   0.31051  0.41466   \n",
       "139                   0.23906  0.79273                   0.36315  0.22917   \n",
       "140                   0.21102  1.13299                   0.33861  0.45727   \n",
       "141                   0.36498  0.97619                   0.43540  0.36772   \n",
       "142                   1.06024  0.90528                   0.43372  0.31914   \n",
       "143                   0.06940  0.77265                   0.29707  0.47692   \n",
       "144                   0.46038  0.62736                   0.61114  0.66246   \n",
       "145                   0.28520  1.00268                   0.38215  0.32878   \n",
       "146                   0.20824  0.66801                   0.46721  0.19184   \n",
       "147                   0.07850  0.00000                   0.06699  0.48879   \n",
       "148                   0.34193  0.76062                   0.15010  0.23501   \n",
       "149                   0.17417  0.46475                   0.24009  0.37725   \n",
       "150                   0.46534  0.77115                   0.15185  0.46866   \n",
       "151                   0.25812  0.85188                   0.27125  0.39493   \n",
       "152                   0.31982  0.30285                   0.30335  0.23414   \n",
       "153                   0.22208  0.77370                   0.42864  0.59201   \n",
       "154                   0.28665  0.35386                   0.31910  0.48450   \n",
       "155                   0.66320  0.47489                   0.72193  0.15684   \n",
       "156                   0.01530  0.41587                   0.22396  0.11850   \n",
       "157                   0.20868  0.13995                   0.28443  0.36453   \n",
       "\n",
       "     Trust (Government Corruption)  Generosity  Dystopia Residual  \n",
       "0                          0.41978     0.29678            2.51738  \n",
       "1                          0.14145     0.43630            2.70201  \n",
       "2                          0.48357     0.34139            2.49204  \n",
       "3                          0.36503     0.34699            2.46531  \n",
       "4                          0.32957     0.45811            2.45176  \n",
       "5                          0.41372     0.23351            2.61955  \n",
       "6                          0.31814     0.47610            2.46570  \n",
       "7                          0.43844     0.36262            2.37119  \n",
       "8                          0.42922     0.47501            2.26425  \n",
       "9                          0.35637     0.43562            2.26646  \n",
       "10                         0.07785     0.33172            3.08854  \n",
       "11                         0.10583     0.25497            3.17728  \n",
       "12                         0.18676     0.33088            2.53320  \n",
       "13                         0.21312     0.14074            3.60214  \n",
       "14                         0.15890     0.40105            2.51011  \n",
       "15                         0.17521     0.14574            3.26001  \n",
       "16                         0.37798     0.28034            1.96961  \n",
       "17                         0.28703     0.45901            1.97570  \n",
       "18                         0.22540     0.22250            2.41484  \n",
       "19                         0.38583     0.26428            2.24743  \n",
       "20                         0.32067     0.51912            1.96994  \n",
       "21                         0.32524     0.21542            2.47489  \n",
       "22                         0.11069     0.05841            3.19131  \n",
       "23                         0.49210     0.31105            1.88501  \n",
       "24                         0.09270     0.24434            2.84848  \n",
       "25                         0.21843     0.28214            2.11569  \n",
       "26                         0.12869     0.33363            2.67585  \n",
       "27                         0.52208     0.32573            1.55674  \n",
       "28                         0.20646     0.12332            2.21126  \n",
       "29                         0.08484     0.11451            2.83600  \n",
       "..                             ...         ...                ...  \n",
       "128                        0.19034     0.79588            1.41805  \n",
       "129                        0.38331     0.05547            1.59541  \n",
       "130                        0.06977     0.33128            2.80791  \n",
       "131                        0.09179     0.40828            0.67108  \n",
       "132                        0.05786     0.20618            1.95071  \n",
       "133                        0.00872     0.11921            0.89991  \n",
       "134                        0.06324     0.11291            1.59927  \n",
       "135                        0.07854     0.09131            1.92313  \n",
       "136                        0.07122     0.12344            1.94939  \n",
       "137                        0.12352     0.18798            1.79293  \n",
       "138                        0.11686     0.12388            1.68135  \n",
       "139                        0.19900     0.17441            1.95812  \n",
       "140                        0.07267     0.29066            1.42766  \n",
       "141                        0.10713     0.20843            1.44395  \n",
       "142                        0.11091     0.06822            0.99895  \n",
       "143                        0.15639     0.19387            1.87877  \n",
       "144                        0.07247     0.40359            0.98195  \n",
       "145                        0.05747     0.34377            1.38079  \n",
       "146                        0.08124     0.21333            1.85100  \n",
       "147                        0.08289     0.23835            2.72230  \n",
       "148                        0.05269     0.18386            1.94296  \n",
       "149                        0.12139     0.28657            1.99172  \n",
       "150                        0.17922     0.20165            1.41723  \n",
       "151                        0.12832     0.21747            1.46494  \n",
       "152                        0.09719     0.36510            1.95210  \n",
       "153                        0.55191     0.22628            0.67042  \n",
       "154                        0.08010     0.18260            1.63328  \n",
       "155                        0.18906     0.47179            0.32858  \n",
       "156                        0.10062     0.19727            1.83302  \n",
       "157                        0.10731     0.16681            1.56726  \n",
       "\n",
       "[158 rows x 12 columns]"
      ]
     },
     "execution_count": 1,
     "metadata": {},
     "output_type": "execute_result"
    }
   ],
   "source": [
    "# Loading the data\n",
    "import pandas as pd\n",
    "import numpy as np\n",
    "df = pd.read_csv(\"C:\\\\Users\\\\Prajakta\\\\2015.csv\")\n",
    "df"
   ]
  },
  {
   "cell_type": "code",
   "execution_count": 3,
   "metadata": {
    "collapsed": false
   },
   "outputs": [
    {
     "name": "stdout",
     "output_type": "stream",
     "text": [
      "<class 'pandas.core.frame.DataFrame'>\n",
      "RangeIndex: 158 entries, 0 to 157\n",
      "Data columns (total 12 columns):\n",
      "Country                          158 non-null object\n",
      "Region                           158 non-null object\n",
      "Happiness Rank                   158 non-null int64\n",
      "Happiness Score                  158 non-null float64\n",
      "Standard Error                   158 non-null float64\n",
      "Economy (GDP per Capita)         158 non-null float64\n",
      "Family                           158 non-null float64\n",
      "Health (Life Expectancy)         158 non-null float64\n",
      "Freedom                          158 non-null float64\n",
      "Trust (Government Corruption)    158 non-null float64\n",
      "Generosity                       158 non-null float64\n",
      "Dystopia Residual                158 non-null float64\n",
      "dtypes: float64(9), int64(1), object(2)\n",
      "memory usage: 14.9+ KB\n"
     ]
    }
   ],
   "source": [
    "#Information about the data regarding features\n",
    "df.info()"
   ]
  },
  {
   "cell_type": "code",
   "execution_count": 4,
   "metadata": {
    "collapsed": false
   },
   "outputs": [
    {
     "data": {
      "text/plain": [
       "0      7\n",
       "1      7\n",
       "2      7\n",
       "3      7\n",
       "4      7\n",
       "5      7\n",
       "6      7\n",
       "7      7\n",
       "8      7\n",
       "9      7\n",
       "10     7\n",
       "11     7\n",
       "12     7\n",
       "13     7\n",
       "14     7\n",
       "15     6\n",
       "16     6\n",
       "17     6\n",
       "18     6\n",
       "19     6\n",
       "20     6\n",
       "21     6\n",
       "22     6\n",
       "23     6\n",
       "24     6\n",
       "25     6\n",
       "26     6\n",
       "27     6\n",
       "28     6\n",
       "29     6\n",
       "      ..\n",
       "128    4\n",
       "129    4\n",
       "130    4\n",
       "131    4\n",
       "132    4\n",
       "133    4\n",
       "134    4\n",
       "135    4\n",
       "136    4\n",
       "137    3\n",
       "138    3\n",
       "139    3\n",
       "140    3\n",
       "141    3\n",
       "142    3\n",
       "143    3\n",
       "144    3\n",
       "145    3\n",
       "146    3\n",
       "147    3\n",
       "148    3\n",
       "149    3\n",
       "150    3\n",
       "151    3\n",
       "152    3\n",
       "153    3\n",
       "154    3\n",
       "155    3\n",
       "156    2\n",
       "157    2\n",
       "Name: Happiness Score, dtype: int32"
      ]
     },
     "execution_count": 4,
     "metadata": {},
     "output_type": "execute_result"
    }
   ],
   "source": [
    "#Converting feature 'Happiness score' from float to integer \n",
    "df['Happiness Score'] = df['Happiness Score'].astype(int)\n",
    "df['Happiness Score']"
   ]
  },
  {
   "cell_type": "code",
   "execution_count": 5,
   "metadata": {
    "collapsed": false
   },
   "outputs": [
    {
     "data": {
      "text/plain": [
       "['Standard Error',\n",
       " 'Economy (GDP per Capita)',\n",
       " 'Family',\n",
       " 'Health (Life Expectancy)',\n",
       " 'Freedom',\n",
       " 'Trust (Government Corruption)',\n",
       " 'Generosity',\n",
       " 'Dystopia Residual']"
      ]
     },
     "execution_count": 5,
     "metadata": {},
     "output_type": "execute_result"
    }
   ],
   "source": [
    "#Taking all the features in one list and removing the features that are not required as they are unique and in text format\n",
    "features = list(df)\n",
    "features.remove('Happiness Score')\n",
    "features.remove('Happiness Rank')\n",
    "features.remove('Country') \n",
    "features.remove('Region')\n",
    "features"
   ]
  },
  {
   "cell_type": "markdown",
   "metadata": {},
   "source": [
    "#                                          Decision Tree Classifier\n",
    "\n",
    "##                                                         Depth = 1"
   ]
  },
  {
   "cell_type": "code",
   "execution_count": 6,
   "metadata": {
    "collapsed": false
   },
   "outputs": [
    {
     "data": {
      "text/plain": [
       "DecisionTreeClassifier(class_weight=None, criterion='entropy', max_depth=1,\n",
       "            max_features=None, max_leaf_nodes=None,\n",
       "            min_impurity_split=1e-07, min_samples_leaf=1,\n",
       "            min_samples_split=2, min_weight_fraction_leaf=0.0,\n",
       "            presort=False, random_state=None, splitter='best')"
      ]
     },
     "execution_count": 6,
     "metadata": {},
     "output_type": "execute_result"
    }
   ],
   "source": [
    "from sklearn.tree import DecisionTreeClassifier, export_graphviz\n",
    "from sklearn.model_selection import train_test_split\n",
    "y = df['Happiness Score']              # Target Feature\n",
    "X = df[features]                       # Remaining Features \n",
    "\n",
    "# Training Data = 2/3 and Test Data = 1/3 respectively\n",
    "\n",
    "X_train, X_test, y_train, y_test = train_test_split(X, y, train_size=0.66,test_size=0.33,random_state=101)\n",
    "dt = DecisionTreeClassifier(max_depth=1,criterion = 'entropy')  \n",
    "dt.fit(X_train, y_train)"
   ]
  },
  {
   "cell_type": "code",
   "execution_count": 7,
   "metadata": {
    "collapsed": true
   },
   "outputs": [],
   "source": [
    "# Visualization of the tree and deriving important features according to the Information Gain \n",
    "\n",
    "def visualize_tree(tree, feature_names):\n",
    "    with open(\"dt.dot\", 'w') as f:\n",
    "        export_graphviz(tree, out_file=f, feature_names=feature_names)\n",
    "\n",
    "    command = [\"dot\", \"-Tpng\", \"dt.dot\", \"-o\", \"dt.png\"]\n",
    "    try:\n",
    "        subprocess.check_call(command)\n",
    "    except:\n",
    "        exit(\"Could not run dot, ie graphviz, to produce visualization\")\n",
    "\n",
    "visualize_tree(dt, features)\n",
    "\n",
    "#This gives a word file named dt.docx where the nodes are splitted according to the entropy. The tree looks like below: "
   ]
  },
  {
   "cell_type": "code",
   "execution_count": 8,
   "metadata": {
    "collapsed": false
   },
   "outputs": [
    {
     "data": {
      "image/jpeg": "[encoded data removed]",
      "text/plain": [
       "<IPython.core.display.Image object>"
      ]
     },
     "execution_count": 8,
     "metadata": {},
     "output_type": "execute_result"
    }
   ],
   "source": [
    "from IPython.display import Image\n",
    "Image(filename='C:\\\\Users\\\\Prajakta\\\\tree_depth_1.jpg')"
   ]
  },
  {
   "cell_type": "code",
   "execution_count": 9,
   "metadata": {
    "collapsed": false
   },
   "outputs": [
    {
     "name": "stdout",
     "output_type": "stream",
     "text": [
      "Accuracy:  44.2307692308\n"
     ]
    }
   ],
   "source": [
    "# Accuracy on Train data\n",
    "from sklearn.metrics import accuracy_score\n",
    "y_pred = dt.predict(X_train)\n",
    "accuracy_dt =  accuracy_score(y_train,y_pred)*100\n",
    "print('Accuracy: ', accuracy_dt)\n"
   ]
  },
  {
   "cell_type": "code",
   "execution_count": 21,
   "metadata": {
    "collapsed": false
   },
   "outputs": [
    {
     "name": "stdout",
     "output_type": "stream",
     "text": [
      "Precision:  25.7011217949\n",
      "Recall:  44.2307692308\n"
     ]
    },
    {
     "name": "stderr",
     "output_type": "stream",
     "text": [
      "C:\\Users\\Prajakta\\Anaconda3\\lib\\site-packages\\sklearn\\metrics\\classification.py:1113: UndefinedMetricWarning: Precision is ill-defined and being set to 0.0 in labels with no predicted samples.\n",
      "  'precision', 'predicted', average, warn_for)\n"
     ]
    }
   ],
   "source": [
    "from sklearn.metrics import precision_score, recall_score\n",
    "precision_dt = precision_score(y_train,y_pred,average='weighted')*100\n",
    "print('Precision: ', precision_dt)\n",
    "recall_dt = recall_score(y_train,y_pred,average='weighted')*100\n",
    "print('Recall: ', recall_dt)"
   ]
  },
  {
   "cell_type": "code",
   "execution_count": 25,
   "metadata": {
    "collapsed": false
   },
   "outputs": [
    {
     "name": "stdout",
     "output_type": "stream",
     "text": [
      "Accuracy:  37.7358490566\n"
     ]
    }
   ],
   "source": [
    "# Accuracy on Test data\n",
    "\n",
    "from sklearn.metrics import accuracy_score\n",
    "y_pred_test = dt.predict(X_test)\n",
    "accuracy_dt_test =  accuracy_score(y_test,y_pred_test)*100\n",
    "print('Accuracy: ', accuracy_dt_test)\n"
   ]
  },
  {
   "cell_type": "code",
   "execution_count": 50,
   "metadata": {
    "collapsed": false
   },
   "outputs": [
    {
     "data": {
      "text/plain": [
       "[(1.0, 'Economy (GDP per Capita)'),\n",
       " (0.0, 'Trust (Government Corruption)'),\n",
       " (0.0, 'Standard Error'),\n",
       " (0.0, 'Health (Life Expectancy)'),\n",
       " (0.0, 'Generosity'),\n",
       " (0.0, 'Freedom'),\n",
       " (0.0, 'Family'),\n",
       " (0.0, 'Dystopia Residual')]"
      ]
     },
     "execution_count": 50,
     "metadata": {},
     "output_type": "execute_result"
    }
   ],
   "source": [
    "# Finding important features for depth = 1\n",
    "wf= zip(dt.feature_importances_, features)\n",
    "sorted(wf, reverse=True)"
   ]
  },
  {
   "cell_type": "markdown",
   "metadata": {},
   "source": [
    "##                                                                    Depth = 2"
   ]
  },
  {
   "cell_type": "code",
   "execution_count": 22,
   "metadata": {
    "collapsed": false
   },
   "outputs": [
    {
     "data": {
      "text/plain": [
       "DecisionTreeClassifier(class_weight=None, criterion='entropy', max_depth=2,\n",
       "            max_features=None, max_leaf_nodes=None,\n",
       "            min_impurity_split=1e-07, min_samples_leaf=1,\n",
       "            min_samples_split=2, min_weight_fraction_leaf=0.0,\n",
       "            presort=False, random_state=None, splitter='best')"
      ]
     },
     "execution_count": 22,
     "metadata": {},
     "output_type": "execute_result"
    }
   ],
   "source": [
    "dt_depth2 = DecisionTreeClassifier(max_depth=2,criterion = 'entropy')  \n",
    "dt_depth2.fit(X_train, y_train)"
   ]
  },
  {
   "cell_type": "code",
   "execution_count": 23,
   "metadata": {
    "collapsed": true
   },
   "outputs": [],
   "source": [
    "visualize_tree(dt_depth2, features)"
   ]
  },
  {
   "cell_type": "code",
   "execution_count": 24,
   "metadata": {
    "collapsed": false
   },
   "outputs": [
    {
     "data": {
      "image/jpeg": "[encoded data removed]",
      "text/plain": [
       "<IPython.core.display.Image object>"
      ]
     },
     "execution_count": 24,
     "metadata": {},
     "output_type": "execute_result"
    }
   ],
   "source": [
    "Image(filename='C:\\\\Users\\\\Prajakta\\\\tree_depth_2.jpg')"
   ]
  },
  {
   "cell_type": "code",
   "execution_count": 26,
   "metadata": {
    "collapsed": false
   },
   "outputs": [
    {
     "name": "stdout",
     "output_type": "stream",
     "text": [
      "Accuracy:  54.8076923077\n"
     ]
    }
   ],
   "source": [
    "# Accuracy on Train data\n",
    "from sklearn.metrics import accuracy_score\n",
    "y_pred_depth2 = dt_depth2.predict(X_train)\n",
    "accuracy_dt_trainD2 =  accuracy_score(y_train,y_pred_depth2)*100\n",
    "print('Accuracy: ', accuracy_dt_trainD2)\n"
   ]
  },
  {
   "cell_type": "code",
   "execution_count": 27,
   "metadata": {
    "collapsed": false
   },
   "outputs": [
    {
     "name": "stdout",
     "output_type": "stream",
     "text": [
      "Precision:  46.1698717949\n",
      "Recall:  54.8076923077\n"
     ]
    },
    {
     "name": "stderr",
     "output_type": "stream",
     "text": [
      "C:\\Users\\Prajakta\\Anaconda3\\lib\\site-packages\\sklearn\\metrics\\classification.py:1113: UndefinedMetricWarning: Precision is ill-defined and being set to 0.0 in labels with no predicted samples.\n",
      "  'precision', 'predicted', average, warn_for)\n"
     ]
    }
   ],
   "source": [
    "from sklearn.metrics import precision_score, recall_score\n",
    "precision_dt_D2 = precision_score(y_train,y_pred_depth2,average='weighted')*100\n",
    "print('Precision: ', precision_dt_D2)\n",
    "recall_dt_D2 = recall_score(y_train,y_pred_depth2,average='weighted')*100\n",
    "print('Recall: ', recall_dt_D2)"
   ]
  },
  {
   "cell_type": "code",
   "execution_count": 28,
   "metadata": {
    "collapsed": false
   },
   "outputs": [
    {
     "name": "stdout",
     "output_type": "stream",
     "text": [
      "Accuracy:  32.0754716981\n"
     ]
    }
   ],
   "source": [
    "# Accuracy on Test data\n",
    "\n",
    "from sklearn.metrics import accuracy_score\n",
    "y_pred_testD2 = dt_depth2.predict(X_test)\n",
    "accuracy_dt_testD2 =  accuracy_score(y_test,y_pred_testD2)*100\n",
    "print('Accuracy: ', accuracy_dt_testD2)\n"
   ]
  },
  {
   "cell_type": "code",
   "execution_count": 49,
   "metadata": {
    "collapsed": false
   },
   "outputs": [
    {
     "data": {
      "text/plain": [
       "[(0.76238179343324486, 'Economy (GDP per Capita)'),\n",
       " (0.23761820656675506, 'Dystopia Residual'),\n",
       " (0.0, 'Trust (Government Corruption)'),\n",
       " (0.0, 'Standard Error'),\n",
       " (0.0, 'Health (Life Expectancy)'),\n",
       " (0.0, 'Generosity'),\n",
       " (0.0, 'Freedom'),\n",
       " (0.0, 'Family')]"
      ]
     },
     "execution_count": 49,
     "metadata": {},
     "output_type": "execute_result"
    }
   ],
   "source": [
    "# Finding important features for depth = 2\n",
    "wf= zip(dt_depth2.feature_importances_, features)\n",
    "sorted(wf, reverse=True)"
   ]
  },
  {
   "cell_type": "markdown",
   "metadata": {},
   "source": [
    "##                                                               Depth = 3"
   ]
  },
  {
   "cell_type": "code",
   "execution_count": 29,
   "metadata": {
    "collapsed": false
   },
   "outputs": [
    {
     "data": {
      "text/plain": [
       "DecisionTreeClassifier(class_weight=None, criterion='entropy', max_depth=3,\n",
       "            max_features=None, max_leaf_nodes=None,\n",
       "            min_impurity_split=1e-07, min_samples_leaf=1,\n",
       "            min_samples_split=2, min_weight_fraction_leaf=0.0,\n",
       "            presort=False, random_state=None, splitter='best')"
      ]
     },
     "execution_count": 29,
     "metadata": {},
     "output_type": "execute_result"
    }
   ],
   "source": [
    "dt_depth3 = DecisionTreeClassifier(max_depth=3,criterion = 'entropy')  \n",
    "dt_depth3.fit(X_train, y_train)"
   ]
  },
  {
   "cell_type": "code",
   "execution_count": 31,
   "metadata": {
    "collapsed": true
   },
   "outputs": [],
   "source": [
    "visualize_tree(dt_depth3, features)"
   ]
  },
  {
   "cell_type": "code",
   "execution_count": 32,
   "metadata": {
    "collapsed": false
   },
   "outputs": [
    {
     "data": {
      "image/jpeg": "[encoded data removed]",
      "text/plain": [
       "<IPython.core.display.Image object>"
      ]
     },
     "execution_count": 32,
     "metadata": {},
     "output_type": "execute_result"
    }
   ],
   "source": [
    "Image(filename='C:\\\\Users\\\\Prajakta\\\\tree_depth_3.jpg')"
   ]
  },
  {
   "cell_type": "code",
   "execution_count": 33,
   "metadata": {
    "collapsed": false
   },
   "outputs": [
    {
     "name": "stdout",
     "output_type": "stream",
     "text": [
      "Accuracy:  75.9615384615\n"
     ]
    }
   ],
   "source": [
    "# Accuracy on Train data\n",
    "from sklearn.metrics import accuracy_score\n",
    "y_pred_depth3 = dt_depth3.predict(X_train)\n",
    "accuracy_dt_trainD3 =  accuracy_score(y_train,y_pred_depth3)*100\n",
    "print('Accuracy: ', accuracy_dt_trainD3)"
   ]
  },
  {
   "cell_type": "code",
   "execution_count": 34,
   "metadata": {
    "collapsed": false
   },
   "outputs": [
    {
     "name": "stdout",
     "output_type": "stream",
     "text": [
      "Precision:  76.0919100082\n",
      "Recall:  75.9615384615\n"
     ]
    },
    {
     "name": "stderr",
     "output_type": "stream",
     "text": [
      "C:\\Users\\Prajakta\\Anaconda3\\lib\\site-packages\\sklearn\\metrics\\classification.py:1113: UndefinedMetricWarning: Precision is ill-defined and being set to 0.0 in labels with no predicted samples.\n",
      "  'precision', 'predicted', average, warn_for)\n"
     ]
    }
   ],
   "source": [
    "from sklearn.metrics import precision_score, recall_score\n",
    "precision_dt_D3 = precision_score(y_train,y_pred_depth3,average='weighted')*100\n",
    "print('Precision: ', precision_dt_D3)\n",
    "recall_dt_D3 = recall_score(y_train,y_pred_depth3,average='weighted')*100\n",
    "print('Recall: ', recall_dt_D3)"
   ]
  },
  {
   "cell_type": "code",
   "execution_count": 35,
   "metadata": {
    "collapsed": false
   },
   "outputs": [
    {
     "name": "stdout",
     "output_type": "stream",
     "text": [
      "Accuracy:  58.4905660377\n"
     ]
    }
   ],
   "source": [
    "# Accuracy on Test data\n",
    "\n",
    "from sklearn.metrics import accuracy_score\n",
    "y_pred_testD3 = dt_depth3.predict(X_test)\n",
    "accuracy_dt_testD3 =  accuracy_score(y_test,y_pred_testD3)*100\n",
    "print('Accuracy: ', accuracy_dt_testD3)\n"
   ]
  },
  {
   "cell_type": "code",
   "execution_count": 48,
   "metadata": {
    "collapsed": false
   },
   "outputs": [
    {
     "data": {
      "text/plain": [
       "[(0.63310823298753849, 'Economy (GDP per Capita)'),\n",
       " (0.27261869662425597, 'Dystopia Residual'),\n",
       " (0.094273070388205468, 'Health (Life Expectancy)'),\n",
       " (0.0, 'Trust (Government Corruption)'),\n",
       " (0.0, 'Standard Error'),\n",
       " (0.0, 'Generosity'),\n",
       " (0.0, 'Freedom'),\n",
       " (0.0, 'Family')]"
      ]
     },
     "execution_count": 48,
     "metadata": {},
     "output_type": "execute_result"
    }
   ],
   "source": [
    "# Finding important features for depth = 3\n",
    "wf= zip(dt_depth3.feature_importances_, features)\n",
    "sorted(wf, reverse=True)"
   ]
  },
  {
   "cell_type": "markdown",
   "metadata": {},
   "source": [
    "##                                                                Depth = 4"
   ]
  },
  {
   "cell_type": "code",
   "execution_count": 36,
   "metadata": {
    "collapsed": false
   },
   "outputs": [
    {
     "data": {
      "text/plain": [
       "DecisionTreeClassifier(class_weight=None, criterion='entropy', max_depth=4,\n",
       "            max_features=None, max_leaf_nodes=None,\n",
       "            min_impurity_split=1e-07, min_samples_leaf=1,\n",
       "            min_samples_split=2, min_weight_fraction_leaf=0.0,\n",
       "            presort=False, random_state=None, splitter='best')"
      ]
     },
     "execution_count": 36,
     "metadata": {},
     "output_type": "execute_result"
    }
   ],
   "source": [
    "dt_depth4 = DecisionTreeClassifier(max_depth=4,criterion = 'entropy')  \n",
    "dt_depth4.fit(X_train, y_train)"
   ]
  },
  {
   "cell_type": "code",
   "execution_count": 37,
   "metadata": {
    "collapsed": false
   },
   "outputs": [
    {
     "name": "stdout",
     "output_type": "stream",
     "text": [
      "Accuracy:  88.4615384615\n"
     ]
    }
   ],
   "source": [
    "# Accuracy on Train data\n",
    "from sklearn.metrics import accuracy_score\n",
    "y_pred_depth4 = dt_depth4.predict(X_train)\n",
    "accuracy_dt_trainD4 =  accuracy_score(y_train,y_pred_depth4)*100\n",
    "print('Accuracy: ', accuracy_dt_trainD4)"
   ]
  },
  {
   "cell_type": "code",
   "execution_count": 38,
   "metadata": {
    "collapsed": false
   },
   "outputs": [
    {
     "name": "stdout",
     "output_type": "stream",
     "text": [
      "Accuracy:  54.7169811321\n"
     ]
    }
   ],
   "source": [
    "# Accuracy on Test data\n",
    "\n",
    "from sklearn.metrics import accuracy_score\n",
    "y_pred_testD4 = dt_depth4.predict(X_test)\n",
    "accuracy_dt_testD4 =  accuracy_score(y_test,y_pred_testD4)*100\n",
    "print('Accuracy: ', accuracy_dt_testD4)\n"
   ]
  },
  {
   "cell_type": "code",
   "execution_count": 47,
   "metadata": {
    "collapsed": false
   },
   "outputs": [
    {
     "data": {
      "text/plain": [
       "[(0.531009882241678, 'Economy (GDP per Capita)'),\n",
       " (0.21185326347289921, 'Dystopia Residual'),\n",
       " (0.10504229810134942, 'Freedom'),\n",
       " (0.10112514002927905, 'Health (Life Expectancy)'),\n",
       " (0.025583580150137068, 'Family'),\n",
       " (0.025385836004657394, 'Trust (Government Corruption)'),\n",
       " (0.0, 'Standard Error'),\n",
       " (0.0, 'Generosity')]"
      ]
     },
     "execution_count": 47,
     "metadata": {},
     "output_type": "execute_result"
    }
   ],
   "source": [
    "# Finding important features for depth = 4\n",
    "wf= zip(dt_depth4.feature_importances_, features)\n",
    "sorted(wf, reverse=True)"
   ]
  },
  {
   "cell_type": "markdown",
   "metadata": {},
   "source": [
    "##                                                              Depth = 5"
   ]
  },
  {
   "cell_type": "code",
   "execution_count": 39,
   "metadata": {
    "collapsed": false
   },
   "outputs": [
    {
     "data": {
      "text/plain": [
       "DecisionTreeClassifier(class_weight=None, criterion='entropy', max_depth=5,\n",
       "            max_features=None, max_leaf_nodes=None,\n",
       "            min_impurity_split=1e-07, min_samples_leaf=1,\n",
       "            min_samples_split=2, min_weight_fraction_leaf=0.0,\n",
       "            presort=False, random_state=None, splitter='best')"
      ]
     },
     "execution_count": 39,
     "metadata": {},
     "output_type": "execute_result"
    }
   ],
   "source": [
    "dt_depth5 = DecisionTreeClassifier(max_depth=5,criterion = 'entropy')  \n",
    "dt_depth5.fit(X_train, y_train)"
   ]
  },
  {
   "cell_type": "code",
   "execution_count": 40,
   "metadata": {
    "collapsed": false
   },
   "outputs": [
    {
     "name": "stdout",
     "output_type": "stream",
     "text": [
      "Accuracy:  97.1153846154\n"
     ]
    }
   ],
   "source": [
    "# Accuracy on Train data\n",
    "from sklearn.metrics import accuracy_score\n",
    "y_pred_depth5 = dt_depth5.predict(X_train)\n",
    "accuracy_dt_trainD5 =  accuracy_score(y_train,y_pred_depth5)*100\n",
    "print('Accuracy: ', accuracy_dt_trainD5)"
   ]
  },
  {
   "cell_type": "code",
   "execution_count": 41,
   "metadata": {
    "collapsed": false
   },
   "outputs": [
    {
     "name": "stdout",
     "output_type": "stream",
     "text": [
      "Accuracy:  66.0377358491\n"
     ]
    }
   ],
   "source": [
    "# Accuracy on Test data\n",
    "\n",
    "from sklearn.metrics import accuracy_score\n",
    "y_pred_testD5 = dt_depth5.predict(X_test)\n",
    "accuracy_dt_testD5 =  accuracy_score(y_test,y_pred_testD5)*100\n",
    "print('Accuracy: ', accuracy_dt_testD5)\n"
   ]
  },
  {
   "cell_type": "code",
   "execution_count": 46,
   "metadata": {
    "collapsed": false
   },
   "outputs": [
    {
     "data": {
      "text/plain": [
       "[(0.44269134511293495, 'Economy (GDP per Capita)'),\n",
       " (0.25171985419313253, 'Dystopia Residual'),\n",
       " (0.114913871514921, 'Freedom'),\n",
       " (0.088054572426662342, 'Health (Life Expectancy)'),\n",
       " (0.042222734469949612, 'Family'),\n",
       " (0.033975316655742396, 'Trust (Government Corruption)'),\n",
       " (0.026422305626657219, 'Standard Error'),\n",
       " (0.0, 'Generosity')]"
      ]
     },
     "execution_count": 46,
     "metadata": {},
     "output_type": "execute_result"
    }
   ],
   "source": [
    "# Finding important features for depth = 5\n",
    "wf= zip(dt_depth5.feature_importances_, features)\n",
    "sorted(wf, reverse=True)"
   ]
  },
  {
   "cell_type": "markdown",
   "metadata": {},
   "source": [
    "##                                                               Depth = 6"
   ]
  },
  {
   "cell_type": "code",
   "execution_count": 42,
   "metadata": {
    "collapsed": false
   },
   "outputs": [
    {
     "data": {
      "text/plain": [
       "DecisionTreeClassifier(class_weight=None, criterion='entropy', max_depth=6,\n",
       "            max_features=None, max_leaf_nodes=None,\n",
       "            min_impurity_split=1e-07, min_samples_leaf=1,\n",
       "            min_samples_split=2, min_weight_fraction_leaf=0.0,\n",
       "            presort=False, random_state=None, splitter='best')"
      ]
     },
     "execution_count": 42,
     "metadata": {},
     "output_type": "execute_result"
    }
   ],
   "source": [
    "dt_depth6= DecisionTreeClassifier(max_depth=6,criterion = 'entropy')  \n",
    "dt_depth6.fit(X_train, y_train)"
   ]
  },
  {
   "cell_type": "code",
   "execution_count": 43,
   "metadata": {
    "collapsed": false
   },
   "outputs": [
    {
     "name": "stdout",
     "output_type": "stream",
     "text": [
      "Accuracy:  100.0\n"
     ]
    }
   ],
   "source": [
    "# Accuracy on Train data\n",
    "from sklearn.metrics import accuracy_score\n",
    "y_pred_depth6 = dt_depth6.predict(X_train)\n",
    "accuracy_dt_trainD6 =  accuracy_score(y_train,y_pred_depth6)*100\n",
    "print('Accuracy: ', accuracy_dt_trainD6)"
   ]
  },
  {
   "cell_type": "code",
   "execution_count": 44,
   "metadata": {
    "collapsed": false
   },
   "outputs": [
    {
     "name": "stdout",
     "output_type": "stream",
     "text": [
      "Accuracy:  58.4905660377\n"
     ]
    }
   ],
   "source": [
    "# Accuracy on Test data\n",
    "\n",
    "from sklearn.metrics import accuracy_score\n",
    "y_pred_testD6 = dt_depth6.predict(X_test)\n",
    "accuracy_dt_testD6 =  accuracy_score(y_test,y_pred_testD6)*100\n",
    "print('Accuracy: ', accuracy_dt_testD6)\n"
   ]
  },
  {
   "cell_type": "code",
   "execution_count": 45,
   "metadata": {
    "collapsed": false
   },
   "outputs": [
    {
     "data": {
      "text/plain": [
       "[(0.41186073471804102, 'Economy (GDP per Capita)'),\n",
       " (0.25094761126305087, 'Dystopia Residual'),\n",
       " (0.10607167129784591, 'Health (Life Expectancy)'),\n",
       " (0.10296475421751372, 'Freedom'),\n",
       " (0.053914814540025273, 'Trust (Government Corruption)'),\n",
       " (0.029662460794659447, 'Generosity'),\n",
       " (0.025402171429169625, 'Standard Error'),\n",
       " (0.019175781739694087, 'Family')]"
      ]
     },
     "execution_count": 45,
     "metadata": {},
     "output_type": "execute_result"
    }
   ],
   "source": [
    "# Finding important features for depth = 6\n",
    "wf= zip(dt_depth6.feature_importances_, features)\n",
    "sorted(wf, reverse=True)"
   ]
  },
  {
   "cell_type": "markdown",
   "metadata": {},
   "source": [
    "#                                                    Conclusion\n",
    "\n",
    "The goal of a decision tree is to create a model that predicts the value of a target variable by learning simple decision rules inferred from the data features. In this dataset, as I increased the depth of the decision tree i.e increased the number of features, the accuracy started increasing.\n",
    "\n",
    "Taking entropy as a splitting criterion, I used various depths for measuring the accuracy of train and test data and after 6 experiments, at depth = 6, the accuracy of training data was 100% and testing data was 58.4% which is the highest.\n",
    "\n",
    "The 100 % accuracy in training data simply means that this is OVERFITTING, model that would just repeat the labels of the samples that it has just seen would have a perfect score but would fail to predict anything useful on yet-unseen data.\n",
    "\n",
    "Also, I calculated the feature importances using following:\n",
    "Criteria for features selection: featureimportances : array of shape = [n_features] The feature importances. The higher, the more important the feature. The importance of a feature is computed as the (normalized) total reduction of the criterion brought by that feature. Therefore, the most important feature in this data is Economy (GDP per Capita) that affects the Happiness Score most followed by 'Dystopia Residual','Health (Life Expectancy)'and so on.\n"
   ]
  }
 ],
 "metadata": {
  "anaconda-cloud": {},
  "kernelspec": {
   "display_name": "Python [Root]",
   "language": "python",
   "name": "Python [Root]"
  },
  "language_info": {
   "codemirror_mode": {
    "name": "ipython",
    "version": 3
   },
   "file_extension": ".py",
   "mimetype": "text/x-python",
   "name": "python",
   "nbconvert_exporter": "python",
   "pygments_lexer": "ipython3",
   "version": "3.5.3"
  }
 },
 "nbformat": 4,
 "nbformat_minor": 0
}
